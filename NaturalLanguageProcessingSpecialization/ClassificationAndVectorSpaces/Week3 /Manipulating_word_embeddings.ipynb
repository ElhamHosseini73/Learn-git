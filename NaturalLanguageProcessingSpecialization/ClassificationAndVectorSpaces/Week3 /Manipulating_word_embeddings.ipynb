{
  "nbformat": 4,
  "nbformat_minor": 0,
  "metadata": {
    "colab": {
      "provenance": [],
      "authorship_tag": "ABX9TyNJJ/X+F0OaF7Euy9ydFr/C",
      "include_colab_link": true
    },
    "kernelspec": {
      "name": "python3",
      "display_name": "Python 3"
    },
    "language_info": {
      "name": "python"
    }
  },
  "cells": [
    {
      "cell_type": "markdown",
      "metadata": {
        "id": "view-in-github",
        "colab_type": "text"
      },
      "source": [
        "<a href=\"https://colab.research.google.com/github/ElhamHosseini73/Learn-git/blob/main/NaturalLanguageProcessingSpecialization/ClassificationAndVectorSpaces/Week3%20/Manipulating_word_embeddings.ipynb\" target=\"_parent\"><img src=\"https://colab.research.google.com/assets/colab-badge.svg\" alt=\"Open In Colab\"/></a>"
      ]
    },
    {
      "cell_type": "code",
      "execution_count": null,
      "metadata": {
        "id": "2X0LuIalOCb-"
      },
      "outputs": [],
      "source": [
        "#init"
      ]
    }
  ]
}