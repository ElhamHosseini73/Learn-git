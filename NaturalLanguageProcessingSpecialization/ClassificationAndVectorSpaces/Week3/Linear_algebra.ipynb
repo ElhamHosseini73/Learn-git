{
  "nbformat": 4,
  "nbformat_minor": 0,
  "metadata": {
    "colab": {
      "provenance": [],
      "authorship_tag": "ABX9TyMJM2kNxglreUBUuajhHT9R",
      "include_colab_link": true
    },
    "kernelspec": {
      "name": "python3",
      "display_name": "Python 3"
    },
    "language_info": {
      "name": "python"
    }
  },
  "cells": [
    {
      "cell_type": "markdown",
      "metadata": {
        "id": "view-in-github",
        "colab_type": "text"
      },
      "source": [
        "<a href=\"https://colab.research.google.com/github/ElhamHosseini73/Learn-git/blob/main/NaturalLanguageProcessingSpecialization/ClassificationAndVectorSpaces/Week3/Linear_algebra.ipynb\" target=\"_parent\"><img src=\"https://colab.research.google.com/assets/colab-badge.svg\" alt=\"Open In Colab\"/></a>"
      ]
    },
    {
      "cell_type": "code",
      "source": [
        "# basic concepts about linear algebra\n",
        "import numpy as np"
      ],
      "metadata": {
        "id": "BY6GE6A1h2lx"
      },
      "execution_count": 3,
      "outputs": []
    },
    {
      "cell_type": "code",
      "execution_count": 5,
      "metadata": {
        "id": "dgQmcXkQd8FD"
      },
      "outputs": [],
      "source": [
        "# Defining lists and convert it to numpy arrays\n",
        "list_test = [1,2 ,3 ,4]\n",
        "array_test = np.array(list_test)"
      ]
    },
    {
      "cell_type": "code",
      "source": [
        "#Algebraic operators on NumPy arrays vs. Python lists\n",
        "\n",
        "#'+' operator\n",
        "list_plus = list_test + list_test\n",
        "\n",
        "array_plus = array_test + array_test\n",
        "\n",
        "print(list_plus)\n",
        "print(array_plus)\n",
        "\n",
        "# '*' operation"
      ],
      "metadata": {
        "id": "XoUs36UmhxJR",
        "outputId": "caec7970-f8ed-48a5-80ab-68da89dd86eb",
        "colab": {
          "base_uri": "https://localhost:8080/"
        }
      },
      "execution_count": 6,
      "outputs": [
        {
          "output_type": "stream",
          "name": "stdout",
          "text": [
            "[1, 2, 3, 4, 1, 2, 3, 4]\n",
            "[2 4 6 8]\n"
          ]
        }
      ]
    }
  ]
}